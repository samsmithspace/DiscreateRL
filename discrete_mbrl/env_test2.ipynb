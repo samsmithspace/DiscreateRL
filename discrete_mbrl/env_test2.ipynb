{
 "cells": [
  {
   "cell_type": "code",
   "id": "initial_id",
   "metadata": {
    "collapsed": true,
    "ExecuteTime": {
     "end_time": "2025-07-04T20:16:09.945644Z",
     "start_time": "2025-07-04T20:16:09.940816Z"
    }
   },
   "source": [
    "import os\n",
    "import sys\n",
    "import numpy as np\n",
    "import torch\n",
    "import matplotlib.pyplot as plt\n",
    "from env_helpers import make_env\n",
    "from visualization import states_to_imgs\n",
    "# Add the parent directory to path\n",
    "sys.path.insert(1, os.path.join(sys.path[0], '..'))\n",
    "\n",
    "env = make_env('MiniGrid-Empty-6x6-v0')\n",
    "\n",
    "# Get initial observation\n",
    "obs = env.reset()\n",
    "\n",
    "\n"
   ],
   "outputs": [],
   "execution_count": 8
  },
  {
   "metadata": {
    "ExecuteTime": {
     "end_time": "2025-07-09T22:38:45.597855Z",
     "start_time": "2025-07-09T22:38:45.278741Z"
    }
   },
   "cell_type": "code",
   "source": [
    "import os\n",
    "import sys\n",
    "import numpy as np\n",
    "import torch\n",
    "import matplotlib.pyplot as plt\n",
    "\n",
    "# Add the parent directory to path\n",
    "sys.path.insert(1, os.path.join(sys.path[0], '..'))\n",
    "\n",
    "from env_helpers import make_env\n",
    "from visualization import states_to_imgs\n",
    "\n",
    "\n",
    "\n",
    "\n",
    "\n",
    "env = make_env('MiniGrid-Empty-6x6-v0')\n",
    "\n",
    "# Get initial observation\n",
    "obs = env.reset()\n",
    "\n",
    "\n",
    "\n",
    "obs = obs[0]\n",
    "\n",
    "print(f\"Raw observation type: {type(obs)}\")\n",
    "print(f\"Raw observation shape: {obs.shape}\")\n",
    "print(f\"Raw observation dtype: {obs.dtype}\")\n",
    "print(f\"Raw observation range: [{obs.min():.3f}, {obs.max():.3f}]\")\n",
    "\n",
    "# Check if observation has proper spatial dimensions\n",
    "if len(obs.shape) == 3:\n",
    "    print(f\"Channels: {obs.shape[0]}, Height: {obs.shape[1]}, Width: {obs.shape[2]}\")\n",
    "\n",
    "# Visualize each channel\n",
    "fig, axes = plt.subplots(1, obs.shape[0], figsize=(12, 4))\n",
    "if obs.shape[0] == 1:\n",
    "    axes = [axes]\n",
    "\n",
    "for i in range(obs.shape[0]):\n",
    "    channel = obs[i]\n",
    "    axes[i].imshow(channel, cmap='viridis')\n",
    "    axes[i].set_title(f'Channel {i}')\n",
    "    axes[i].axis('off')\n",
    "    print(f\"Channel {i} unique values: {np.unique(channel)}\")\n",
    "\n",
    "plt.suptitle('Raw Observation Channels')\n",
    "plt.tight_layout()\n",
    "plt.savefig('debug_raw_channels.png', dpi=150, bbox_inches='tight')\n",
    "plt.show()\n",
    "\n",
    "\n",
    "# Visualize full RGB if 3 channels\n",
    "if obs.shape[0] == 3:\n",
    "    rgb_img = obs.transpose(1, 2, 0)\n",
    "    plt.figure(figsize=(6, 6))\n",
    "    plt.imshow(rgb_img.clip(0, 1))\n",
    "    plt.title('Raw RGB Observation')\n",
    "    plt.axis('off')\n",
    "    plt.savefig('debug_raw_rgb.png', dpi=150, bbox_inches='tight')\n",
    "    plt.show()\n"
   ],
   "id": "cff7e7c5d2a5e2cc",
   "outputs": [
    {
     "name": "stdout",
     "output_type": "stream",
     "text": [
      "Raw observation type: <class 'numpy.ndarray'>\n",
      "Raw observation shape: (3, 48, 48)\n",
      "Raw observation dtype: float64\n",
      "Raw observation range: [0.000, 1.000]\n",
      "Channels: 3, Height: 48, Width: 48\n",
      "Channel 0 unique values: [0.         0.12941176 0.21568627 0.21960784 0.39215686 0.44313725\n",
      " 0.55294118 0.88627451 1.        ]\n",
      "Channel 1 unique values: [0.         0.12941176 0.21568627 0.39215686 1.        ]\n",
      "Channel 2 unique values: [0.         0.12941176 0.21568627 0.39215686]\n"
     ]
    },
    {
     "data": {
      "text/plain": [
       "<Figure size 1200x400 with 3 Axes>"
      ],
      "image/png": "[encoded data removed]"
     },
     "metadata": {},
     "output_type": "display_data"
    },
    {
     "data": {
      "text/plain": [
       "<Figure size 600x600 with 1 Axes>"
      ],
      "image/png": "[encoded data removed]"
     },
     "metadata": {},
     "output_type": "display_data"
    }
   ],
   "execution_count": 15
  },
  {
   "metadata": {
    "ExecuteTime": {
     "end_time": "2025-07-09T22:38:46.879269Z",
     "start_time": "2025-07-09T22:38:46.765130Z"
    }
   },
   "cell_type": "code",
   "source": [
    "if isinstance(obs, np.ndarray):\n",
    "    obs_tensor = torch.from_numpy(obs).float()\n",
    "else:\n",
    "    obs_tensor = obs.float()\n",
    "\n",
    "print(f\"Input tensor shape: {obs_tensor.shape}\")\n",
    "print(f\"Input tensor dtype: {obs_tensor.dtype}\")\n",
    "print(f\"Input tensor range: [{obs_tensor.min():.3f}, {obs_tensor.max():.3f}]\")\n",
    "\n",
    "# Test states_to_imgs function\n",
    "\n",
    "if len(obs_tensor.shape) == 3:\n",
    "    obs_tensor = obs_tensor.unsqueeze(0)  # Add batch dimension\n",
    "\n",
    "print(f\"Processing tensor shape: {obs_tensor.shape}\")\n",
    "\n",
    "# Call states_to_imgs\n",
    "converted_imgs = states_to_imgs(obs_tensor, env_name='MiniGrid-Empty-6x6-v0')\n",
    "\n",
    "print(f\"Converted output type: {type(converted_imgs)}\")\n",
    "print(f\"Converted output shape: {converted_imgs.shape}\")\n",
    "print(f\"Converted output dtype: {converted_imgs.dtype}\")\n",
    "print(f\"Converted output range: [{converted_imgs.min():.3f}, {converted_imgs.max():.3f}]\")\n",
    "\n",
    "# Visualize the conversion result\n",
    "if len(converted_imgs.shape) == 4:  # Batch of images\n",
    "    img = converted_imgs[0]\n",
    "else:\n",
    "    img = converted_imgs\n",
    "\n",
    "# Handle different channel arrangements\n",
    "if len(img.shape) == 3:\n",
    "    if img.shape[0] <= 3:  # Channels first\n",
    "        img_display = img.transpose(1, 2, 0)\n",
    "    else:  # Channels last\n",
    "        img_display = img\n",
    "else:\n",
    "    img_display = img\n",
    "\n",
    "plt.figure(figsize=(8, 8))\n",
    "plt.imshow(img_display.clip(0, 1))\n",
    "plt.title('states_to_imgs Output')\n",
    "plt.axis('off')\n",
    "plt.savefig('debug_states_to_imgs.png', dpi=150, bbox_inches='tight')\n",
    "plt.show()\n"
   ],
   "id": "b1e5af165d61c0df",
   "outputs": [
    {
     "name": "stdout",
     "output_type": "stream",
     "text": [
      "Input tensor shape: torch.Size([3, 48, 48])\n",
      "Input tensor dtype: torch.float32\n",
      "Input tensor range: [0.000, 1.000]\n",
      "Processing tensor shape: torch.Size([1, 3, 48, 48])\n",
      "Converted output type: <class 'numpy.ndarray'>\n",
      "Converted output shape: (1, 3, 48, 48)\n",
      "Converted output dtype: float32\n",
      "Converted output range: [0.000, 1.000]\n"
     ]
    },
    {
     "data": {
      "text/plain": [
       "<Figure size 800x800 with 1 Axes>"
      ],
      "image/png": "[encoded data removed]"
     },
     "metadata": {},
     "output_type": "display_data"
    }
   ],
   "execution_count": 16
  },
  {
   "metadata": {
    "ExecuteTime": {
     "end_time": "2025-07-09T22:50:15.378389Z",
     "start_time": "2025-07-09T22:50:15.230777Z"
    }
   },
   "cell_type": "code",
   "source": [
    "import gymnasium as gym\n",
    "from minigrid.wrappers import RGBImgPartialObsWrapper, ImgObsWrapper\n",
    "from env_helpers import Custom2DWrapper\n",
    "\n",
    "# Step 1: Raw MiniGrid\n",
    "print(\"Step 1: Raw MiniGrid environment\")\n",
    "env1 = gym.make('MiniGrid-Empty-6x6-v0')\n",
    "obs1 = env1.reset()\n",
    "if isinstance(obs1, tuple):\n",
    "    obs1 = obs1[0]\n",
    "print(f\"  Raw obs type: {type(obs1)}, keys: {list(obs1.keys()) if isinstance(obs1, dict) else 'not dict'}\")\n",
    "if isinstance(obs1, dict) and 'image' in obs1:\n",
    "    print(f\"  Raw image shape: {obs1['image'].shape}\")\n",
    "\n",
    "# Step 2: RGB wrapper\n",
    "print(\"Step 2: After RGBImgPartialObsWrapper\")\n",
    "env2 = RGBImgPartialObsWrapper(env1)\n",
    "obs2 = env2.reset()\n",
    "if isinstance(obs2, tuple):\n",
    "    obs2 = obs2[0]\n",
    "print(f\"  RGB obs type: {type(obs2)}, keys: {list(obs2.keys()) if isinstance(obs2, dict) else 'not dict'}\")\n",
    "if isinstance(obs2, dict) and 'image' in obs2:\n",
    "    print(f\"  RGB image shape: {obs2['image'].shape}\")\n",
    "    print(f\"  RGB image range: [{obs2['image'].min()}, {obs2['image'].max()}]\")\n",
    "\n",
    "# Step 3: ImgObsWrapper\n",
    "print(\"Step 3: After ImgObsWrapper\")\n",
    "env3 = ImgObsWrapper(env2)\n",
    "obs3 = env3.reset()\n",
    "if isinstance(obs3, tuple):\n",
    "    obs3 = obs3[0]\n",
    "print(f\"  ImgObs type: {type(obs3)}, shape: {obs3.shape if hasattr(obs3, 'shape') else 'no shape'}\")\n",
    "if hasattr(obs3, 'shape'):\n",
    "    print(f\"  ImgObs range: [{obs3.min()}, {obs3.max()}]\")\n",
    "\n",
    "# Step 4: Custom2DWrapper\n",
    "print(\"Step 4: After Custom2DWrapper\")\n",
    "env4 = Custom2DWrapper(env3)\n",
    "obs4 = env4.reset()\n",
    "if isinstance(obs4, tuple):\n",
    "    obs4 = obs4[0]\n",
    "print(f\"  Final obs type: {type(obs4)}, shape: {obs4.shape if hasattr(obs4, 'shape') else 'no shape'}\")\n",
    "if hasattr(obs4, 'shape'):\n",
    "    print(f\"  Final obs range: [{obs4.min():.3f}, {obs4.max():.3f}]\")\n",
    "\n",
    "# Visualize the final result\n",
    "if hasattr(obs4, 'shape') and len(obs4.shape) == 3:\n",
    "    plt.figure(figsize=(8, 8))\n",
    "    if obs4.shape[0] <= 3:\n",
    "        display_img = obs4.transpose(1, 2, 0)\n",
    "    else:\n",
    "        display_img = obs4\n",
    "    plt.imshow(display_img.clip(0, 1))\n",
    "    plt.title('Final Environment Output')\n",
    "    plt.axis('off')\n",
    "    plt.savefig('debug_final_env_output.png', dpi=150, bbox_inches='tight')\n",
    "    plt.show()\n",
    "\n",
    "# Clean up\n",
    "env1.close()\n",
    "env2.close()\n",
    "env3.close()\n",
    "env4.close()"
   ],
   "id": "8c19a3855b39f901",
   "outputs": [
    {
     "name": "stdout",
     "output_type": "stream",
     "text": [
      "Step 1: Raw MiniGrid environment\n",
      "  Raw obs type: <class 'dict'>, keys: ['image', 'direction', 'mission']\n",
      "  Raw image shape: (7, 7, 3)\n",
      "Step 2: After RGBImgPartialObsWrapper\n",
      "  RGB obs type: <class 'dict'>, keys: ['image', 'direction', 'mission']\n",
      "  RGB image shape: (56, 56, 3)\n",
      "  RGB image range: [76, 255]\n",
      "Step 3: After ImgObsWrapper\n",
      "  ImgObs type: <class 'numpy.ndarray'>, shape: (56, 56, 3)\n",
      "  ImgObs range: [76, 255]\n",
      "Step 4: After Custom2DWrapper\n",
      "  Final obs type: <class 'numpy.ndarray'>, shape: (3, 56, 56)\n",
      "  Final obs range: [0.298, 1.000]\n"
     ]
    },
    {
     "data": {
      "text/plain": [
       "<Figure size 800x800 with 1 Axes>"
      ],
      "image/png": "[encoded data removed]"
     },
     "metadata": {},
     "output_type": "display_data"
    }
   ],
   "execution_count": 21
  },
  {
   "metadata": {},
   "cell_type": "code",
   "outputs": [],
   "execution_count": null,
   "source": "",
   "id": "74050de250bd57c1"
  }
 ],
 "metadata": {
  "kernelspec": {
   "display_name": "Python 3",
   "language": "python",
   "name": "python3"
  },
  "language_info": {
   "codemirror_mode": {
    "name": "ipython",
    "version": 2
   },
   "file_extension": ".py",
   "mimetype": "text/x-python",
   "name": "python",
   "nbconvert_exporter": "python",
   "pygments_lexer": "ipython2",
   "version": "2.7.6"
  }
 },
 "nbformat": 4,
 "nbformat_minor": 5
}
